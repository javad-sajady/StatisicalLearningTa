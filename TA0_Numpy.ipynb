{
 "cells": [
  {
   "cell_type": "code",
   "execution_count": 1,
   "id": "a12d94ec",
   "metadata": {},
   "outputs": [],
   "source": [
    "import numpy as np"
   ]
  },
  {
   "cell_type": "markdown",
   "id": "1d932756",
   "metadata": {},
   "source": [
    "### Arrays"
   ]
  },
  {
   "cell_type": "code",
   "execution_count": 2,
   "id": "ace08505",
   "metadata": {},
   "outputs": [
    {
     "data": {
      "text/plain": [
       "array([[[0., 0., 0.],\n",
       "        [0., 0., 0.],\n",
       "        [0., 0., 0.],\n",
       "        [0., 0., 0.]],\n",
       "\n",
       "       [[0., 0., 0.],\n",
       "        [0., 0., 0.],\n",
       "        [0., 0., 0.],\n",
       "        [0., 0., 0.]],\n",
       "\n",
       "       [[0., 0., 0.],\n",
       "        [0., 0., 0.],\n",
       "        [0., 0., 0.],\n",
       "        [0., 0., 0.]]])"
      ]
     },
     "execution_count": 2,
     "metadata": {},
     "output_type": "execute_result"
    }
   ],
   "source": [
    "A=np.zeros((3,4,3))\n",
    "A"
   ]
  },
  {
   "cell_type": "code",
   "execution_count": 7,
   "id": "672ba261",
   "metadata": {},
   "outputs": [
    {
     "data": {
      "text/plain": [
       "array([[1., 1., 1., 1., 1.],\n",
       "       [1., 1., 1., 1., 1.],\n",
       "       [1., 1., 1., 1., 1.],\n",
       "       [1., 1., 1., 1., 1.]])"
      ]
     },
     "execution_count": 7,
     "metadata": {},
     "output_type": "execute_result"
    }
   ],
   "source": [
    "B=np.ones((4,5))\n",
    "B"
   ]
  },
  {
   "cell_type": "code",
   "execution_count": 12,
   "id": "6131d685",
   "metadata": {},
   "outputs": [
    {
     "data": {
      "text/plain": [
       "array([[1., 0., 0., 0., 0.],\n",
       "       [0., 1., 0., 0., 0.],\n",
       "       [0., 0., 1., 0., 0.]])"
      ]
     },
     "execution_count": 12,
     "metadata": {},
     "output_type": "execute_result"
    }
   ],
   "source": [
    "C=np.eye(3,5)\n",
    "C"
   ]
  },
  {
   "cell_type": "code",
   "execution_count": 17,
   "id": "cc118ad6",
   "metadata": {},
   "outputs": [
    {
     "data": {
      "text/plain": [
       "array([[1, 2, 3],\n",
       "       [4, 5, 6],\n",
       "       [7, 8, 9]])"
      ]
     },
     "execution_count": 17,
     "metadata": {},
     "output_type": "execute_result"
    }
   ],
   "source": [
    "A=np.array([[1,2,3],[4,5,6],[7,8,9]])\n",
    "A"
   ]
  },
  {
   "cell_type": "code",
   "execution_count": 18,
   "id": "c982e9b1",
   "metadata": {},
   "outputs": [
    {
     "data": {
      "text/plain": [
       "(3, 3)"
      ]
     },
     "execution_count": 18,
     "metadata": {},
     "output_type": "execute_result"
    }
   ],
   "source": [
    "A.shape"
   ]
  },
  {
   "cell_type": "code",
   "execution_count": 19,
   "id": "bd62c4c6",
   "metadata": {},
   "outputs": [
    {
     "data": {
      "text/plain": [
       "9"
      ]
     },
     "execution_count": 19,
     "metadata": {},
     "output_type": "execute_result"
    }
   ],
   "source": [
    "A.size"
   ]
  },
  {
   "cell_type": "code",
   "execution_count": 20,
   "id": "4b16ce06",
   "metadata": {},
   "outputs": [
    {
     "data": {
      "text/plain": [
       "array([1, 5, 9])"
      ]
     },
     "execution_count": 20,
     "metadata": {},
     "output_type": "execute_result"
    }
   ],
   "source": [
    "A.diagonal()"
   ]
  },
  {
   "cell_type": "code",
   "execution_count": 21,
   "id": "9dac4998",
   "metadata": {},
   "outputs": [
    {
     "ename": "LinAlgError",
     "evalue": "Singular matrix",
     "output_type": "error",
     "traceback": [
      "\u001b[0;31m---------------------------------------------------------------------------\u001b[0m",
      "\u001b[0;31mLinAlgError\u001b[0m                               Traceback (most recent call last)",
      "\u001b[0;32m<ipython-input-21-ae645f97e1f8>\u001b[0m in \u001b[0;36m<module>\u001b[0;34m\u001b[0m\n\u001b[0;32m----> 1\u001b[0;31m \u001b[0mnp\u001b[0m\u001b[0;34m.\u001b[0m\u001b[0mlinalg\u001b[0m\u001b[0;34m.\u001b[0m\u001b[0minv\u001b[0m\u001b[0;34m(\u001b[0m\u001b[0mA\u001b[0m\u001b[0;34m)\u001b[0m\u001b[0;34m\u001b[0m\u001b[0;34m\u001b[0m\u001b[0m\n\u001b[0m",
      "\u001b[0;32m<__array_function__ internals>\u001b[0m in \u001b[0;36minv\u001b[0;34m(*args, **kwargs)\u001b[0m\n",
      "\u001b[0;32m~/.local/lib/python3.8/site-packages/numpy/linalg/linalg.py\u001b[0m in \u001b[0;36minv\u001b[0;34m(a)\u001b[0m\n\u001b[1;32m    543\u001b[0m     \u001b[0msignature\u001b[0m \u001b[0;34m=\u001b[0m \u001b[0;34m'D->D'\u001b[0m \u001b[0;32mif\u001b[0m \u001b[0misComplexType\u001b[0m\u001b[0;34m(\u001b[0m\u001b[0mt\u001b[0m\u001b[0;34m)\u001b[0m \u001b[0;32melse\u001b[0m \u001b[0;34m'd->d'\u001b[0m\u001b[0;34m\u001b[0m\u001b[0;34m\u001b[0m\u001b[0m\n\u001b[1;32m    544\u001b[0m     \u001b[0mextobj\u001b[0m \u001b[0;34m=\u001b[0m \u001b[0mget_linalg_error_extobj\u001b[0m\u001b[0;34m(\u001b[0m\u001b[0m_raise_linalgerror_singular\u001b[0m\u001b[0;34m)\u001b[0m\u001b[0;34m\u001b[0m\u001b[0;34m\u001b[0m\u001b[0m\n\u001b[0;32m--> 545\u001b[0;31m     \u001b[0mainv\u001b[0m \u001b[0;34m=\u001b[0m \u001b[0m_umath_linalg\u001b[0m\u001b[0;34m.\u001b[0m\u001b[0minv\u001b[0m\u001b[0;34m(\u001b[0m\u001b[0ma\u001b[0m\u001b[0;34m,\u001b[0m \u001b[0msignature\u001b[0m\u001b[0;34m=\u001b[0m\u001b[0msignature\u001b[0m\u001b[0;34m,\u001b[0m \u001b[0mextobj\u001b[0m\u001b[0;34m=\u001b[0m\u001b[0mextobj\u001b[0m\u001b[0;34m)\u001b[0m\u001b[0;34m\u001b[0m\u001b[0;34m\u001b[0m\u001b[0m\n\u001b[0m\u001b[1;32m    546\u001b[0m     \u001b[0;32mreturn\u001b[0m \u001b[0mwrap\u001b[0m\u001b[0;34m(\u001b[0m\u001b[0mainv\u001b[0m\u001b[0;34m.\u001b[0m\u001b[0mastype\u001b[0m\u001b[0;34m(\u001b[0m\u001b[0mresult_t\u001b[0m\u001b[0;34m,\u001b[0m \u001b[0mcopy\u001b[0m\u001b[0;34m=\u001b[0m\u001b[0;32mFalse\u001b[0m\u001b[0;34m)\u001b[0m\u001b[0;34m)\u001b[0m\u001b[0;34m\u001b[0m\u001b[0;34m\u001b[0m\u001b[0m\n\u001b[1;32m    547\u001b[0m \u001b[0;34m\u001b[0m\u001b[0m\n",
      "\u001b[0;32m~/.local/lib/python3.8/site-packages/numpy/linalg/linalg.py\u001b[0m in \u001b[0;36m_raise_linalgerror_singular\u001b[0;34m(err, flag)\u001b[0m\n\u001b[1;32m     86\u001b[0m \u001b[0;34m\u001b[0m\u001b[0m\n\u001b[1;32m     87\u001b[0m \u001b[0;32mdef\u001b[0m \u001b[0m_raise_linalgerror_singular\u001b[0m\u001b[0;34m(\u001b[0m\u001b[0merr\u001b[0m\u001b[0;34m,\u001b[0m \u001b[0mflag\u001b[0m\u001b[0;34m)\u001b[0m\u001b[0;34m:\u001b[0m\u001b[0;34m\u001b[0m\u001b[0;34m\u001b[0m\u001b[0m\n\u001b[0;32m---> 88\u001b[0;31m     \u001b[0;32mraise\u001b[0m \u001b[0mLinAlgError\u001b[0m\u001b[0;34m(\u001b[0m\u001b[0;34m\"Singular matrix\"\u001b[0m\u001b[0;34m)\u001b[0m\u001b[0;34m\u001b[0m\u001b[0;34m\u001b[0m\u001b[0m\n\u001b[0m\u001b[1;32m     89\u001b[0m \u001b[0;34m\u001b[0m\u001b[0m\n\u001b[1;32m     90\u001b[0m \u001b[0;32mdef\u001b[0m \u001b[0m_raise_linalgerror_nonposdef\u001b[0m\u001b[0;34m(\u001b[0m\u001b[0merr\u001b[0m\u001b[0;34m,\u001b[0m \u001b[0mflag\u001b[0m\u001b[0;34m)\u001b[0m\u001b[0;34m:\u001b[0m\u001b[0;34m\u001b[0m\u001b[0;34m\u001b[0m\u001b[0m\n",
      "\u001b[0;31mLinAlgError\u001b[0m: Singular matrix"
     ]
    }
   ],
   "source": [
    "np.linalg.inv(A)"
   ]
  },
  {
   "cell_type": "code",
   "execution_count": 22,
   "id": "01867284",
   "metadata": {},
   "outputs": [
    {
     "data": {
      "text/plain": [
       "0.0"
      ]
     },
     "execution_count": 22,
     "metadata": {},
     "output_type": "execute_result"
    }
   ],
   "source": [
    "np.linalg.det(A)"
   ]
  },
  {
   "cell_type": "code",
   "execution_count": 30,
   "id": "78b3002d",
   "metadata": {},
   "outputs": [
    {
     "data": {
      "text/plain": [
       "array([[ 1,  2,  3],\n",
       "       [ 4, -2, -3],\n",
       "       [ 7,  8, -9]])"
      ]
     },
     "execution_count": 30,
     "metadata": {},
     "output_type": "execute_result"
    }
   ],
   "source": [
    "A=np.array([[1,2,3],[4,-2,-3],[7,8,-9]])\n",
    "A"
   ]
  },
  {
   "cell_type": "code",
   "execution_count": 31,
   "id": "1b6127a8",
   "metadata": {},
   "outputs": [
    {
     "data": {
      "text/plain": [
       "209.99999999999994"
      ]
     },
     "execution_count": 31,
     "metadata": {},
     "output_type": "execute_result"
    }
   ],
   "source": [
    "np.linalg.det(A)"
   ]
  },
  {
   "cell_type": "code",
   "execution_count": 32,
   "id": "931e6e58",
   "metadata": {},
   "outputs": [
    {
     "data": {
      "text/plain": [
       "array([[ 0.2       ,  0.2       ,  0.        ],\n",
       "       [ 0.07142857, -0.14285714,  0.07142857],\n",
       "       [ 0.21904762,  0.02857143, -0.04761905]])"
      ]
     },
     "execution_count": 32,
     "metadata": {},
     "output_type": "execute_result"
    }
   ],
   "source": [
    "np.linalg.inv(A)"
   ]
  },
  {
   "cell_type": "code",
   "execution_count": 33,
   "id": "2df13973",
   "metadata": {},
   "outputs": [
    {
     "data": {
      "text/plain": [
       "array([ 3.82566671+0.j        , -6.91283335+2.66554457j,\n",
       "       -6.91283335-2.66554457j])"
      ]
     },
     "execution_count": 33,
     "metadata": {},
     "output_type": "execute_result"
    }
   ],
   "source": [
    "np.linalg.eigvals(A)"
   ]
  },
  {
   "cell_type": "code",
   "execution_count": 34,
   "id": "454491f5",
   "metadata": {},
   "outputs": [
    {
     "data": {
      "text/plain": [
       "(array([ 3.82566671+0.j        , -6.91283335+2.66554457j,\n",
       "        -6.91283335-2.66554457j]),\n",
       " array([[ 0.78140269+0.j        ,  0.30806784+0.20860998j,\n",
       "          0.30806784-0.20860998j],\n",
       "        [ 0.23986073+0.j        , -0.45139939-0.41476374j,\n",
       "         -0.45139939+0.41476374j],\n",
       "        [ 0.57608737+0.j        , -0.69698329+0.j        ,\n",
       "         -0.69698329-0.j        ]]))"
      ]
     },
     "execution_count": 34,
     "metadata": {},
     "output_type": "execute_result"
    }
   ],
   "source": [
    "np.linalg.eig(A)"
   ]
  },
  {
   "cell_type": "code",
   "execution_count": 36,
   "id": "d09cbd56",
   "metadata": {},
   "outputs": [
    {
     "data": {
      "text/plain": [
       "array([[ 1.00000000e+00, -1.04083409e-17,  0.00000000e+00],\n",
       "       [ 1.11022302e-16,  1.00000000e+00,  0.00000000e+00],\n",
       "       [ 1.11022302e-16, -7.97972799e-17,  1.00000000e+00]])"
      ]
     },
     "execution_count": 36,
     "metadata": {},
     "output_type": "execute_result"
    }
   ],
   "source": [
    "A.dot(np.linalg.inv(A))"
   ]
  },
  {
   "cell_type": "code",
   "execution_count": 37,
   "id": "928f7b7c",
   "metadata": {},
   "outputs": [
    {
     "data": {
      "text/plain": [
       "array([[ 1,  2,  3,  4, -2, -3,  7,  8, -9]])"
      ]
     },
     "execution_count": 37,
     "metadata": {},
     "output_type": "execute_result"
    }
   ],
   "source": [
    "A=A.reshape((1,9))\n",
    "A"
   ]
  },
  {
   "cell_type": "code",
   "execution_count": 38,
   "id": "18c99ebb",
   "metadata": {},
   "outputs": [
    {
     "data": {
      "text/plain": [
       "7"
      ]
     },
     "execution_count": 38,
     "metadata": {},
     "output_type": "execute_result"
    }
   ],
   "source": [
    "A.argmax()"
   ]
  },
  {
   "cell_type": "code",
   "execution_count": 39,
   "id": "b522fa78",
   "metadata": {},
   "outputs": [
    {
     "data": {
      "text/plain": [
       "8"
      ]
     },
     "execution_count": 39,
     "metadata": {},
     "output_type": "execute_result"
    }
   ],
   "source": [
    "A.max()"
   ]
  },
  {
   "cell_type": "code",
   "execution_count": 41,
   "id": "2a549c76",
   "metadata": {},
   "outputs": [
    {
     "data": {
      "text/plain": [
       "8"
      ]
     },
     "execution_count": 41,
     "metadata": {},
     "output_type": "execute_result"
    }
   ],
   "source": [
    "A.argmin()"
   ]
  },
  {
   "cell_type": "code",
   "execution_count": 42,
   "id": "d3b6ccd8",
   "metadata": {},
   "outputs": [
    {
     "data": {
      "text/plain": [
       "-9"
      ]
     },
     "execution_count": 42,
     "metadata": {},
     "output_type": "execute_result"
    }
   ],
   "source": [
    "A.min()"
   ]
  },
  {
   "cell_type": "code",
   "execution_count": 30,
   "id": "f3074191",
   "metadata": {},
   "outputs": [
    {
     "data": {
      "text/plain": [
       "array([[ -2,  -3,  -4],\n",
       "       [ -5,  -6,  -7],\n",
       "       [ -8,  -9, -10]])"
      ]
     },
     "execution_count": 30,
     "metadata": {},
     "output_type": "execute_result"
    }
   ],
   "source": [
    "np.invert(A)"
   ]
  },
  {
   "cell_type": "code",
   "execution_count": 29,
   "id": "9fc441e9",
   "metadata": {},
   "outputs": [
    {
     "data": {
      "text/plain": [
       "array([[ 1,  2,  3,  4, -2, -3,  7,  8,  9]])"
      ]
     },
     "execution_count": 29,
     "metadata": {},
     "output_type": "execute_result"
    }
   ],
   "source": [
    "A"
   ]
  },
  {
   "cell_type": "code",
   "execution_count": 45,
   "id": "e15989ec",
   "metadata": {},
   "outputs": [
    {
     "data": {
      "text/plain": [
       "array([[ 0.5487385 ,  0.41833371, -0.09342698,  0.72079143],\n",
       "       [-0.16139249,  0.20547016,  0.42220358,  0.48259852],\n",
       "       [ 0.58542227, -0.07199945, -0.15905867, -0.59815118]])"
      ]
     },
     "execution_count": 45,
     "metadata": {},
     "output_type": "execute_result"
    }
   ],
   "source": [
    "np.random.normal(0.1,0.4,size=(3,4))"
   ]
  },
  {
   "cell_type": "code",
   "execution_count": 50,
   "id": "fea928dc",
   "metadata": {},
   "outputs": [
    {
     "data": {
      "text/plain": [
       "array([[0.91905356, 0.71788744, 0.92266611, 0.83584861],\n",
       "       [0.23247302, 0.41558955, 0.11425188, 0.74649641],\n",
       "       [0.70540996, 0.69411069, 0.48085735, 0.93515167]])"
      ]
     },
     "execution_count": 50,
     "metadata": {},
     "output_type": "execute_result"
    }
   ],
   "source": [
    "E=np.random.random((3,4))\n",
    "E"
   ]
  },
  {
   "cell_type": "code",
   "execution_count": 47,
   "id": "38ecd3ec",
   "metadata": {},
   "outputs": [
    {
     "data": {
      "text/plain": [
       "array([[3, 1, 8, 0, 6, 3, 4],\n",
       "       [7, 7, 0, 3, 4, 7, 6],\n",
       "       [4, 2, 9, 2, 5, 1, 6]])"
      ]
     },
     "execution_count": 47,
     "metadata": {},
     "output_type": "execute_result"
    }
   ],
   "source": [
    "F=np.random.randint(10,size=(3,7))\n",
    "F"
   ]
  },
  {
   "cell_type": "code",
   "execution_count": 48,
   "id": "1d2a5e73",
   "metadata": {},
   "outputs": [
    {
     "data": {
      "text/plain": [
       "array([[1.73205081, 1.        , 2.82842712, 0.        , 2.44948974,\n",
       "        1.73205081, 2.        ],\n",
       "       [2.64575131, 2.64575131, 0.        , 1.73205081, 2.        ,\n",
       "        2.64575131, 2.44948974],\n",
       "       [2.        , 1.41421356, 3.        , 1.41421356, 2.23606798,\n",
       "        1.        , 2.44948974]])"
      ]
     },
     "execution_count": 48,
     "metadata": {},
     "output_type": "execute_result"
    }
   ],
   "source": [
    "G=np.sqrt(F)\n",
    "G"
   ]
  },
  {
   "cell_type": "code",
   "execution_count": 49,
   "id": "a314bc2b",
   "metadata": {},
   "outputs": [
    {
     "data": {
      "text/plain": [
       "array([[0.        , 0.69314718, 1.09861229],\n",
       "       [1.38629436, 1.60943791, 1.79175947],\n",
       "       [1.94591015, 2.07944154, 2.19722458]])"
      ]
     },
     "execution_count": 49,
     "metadata": {},
     "output_type": "execute_result"
    }
   ],
   "source": [
    "F=np.array([[1,2,3],[4,5,6],[7,8,9]])\n",
    "G=np.log(F)\n",
    "G"
   ]
  },
  {
   "cell_type": "code",
   "execution_count": 50,
   "id": "7883732d",
   "metadata": {},
   "outputs": [
    {
     "data": {
      "text/plain": [
       "array([[2.71828183e+00, 7.38905610e+00, 2.00855369e+01],\n",
       "       [5.45981500e+01, 1.48413159e+02, 4.03428793e+02],\n",
       "       [1.09663316e+03, 2.98095799e+03, 8.10308393e+03]])"
      ]
     },
     "execution_count": 50,
     "metadata": {},
     "output_type": "execute_result"
    }
   ],
   "source": [
    "np.exp(F)"
   ]
  },
  {
   "cell_type": "code",
   "execution_count": 57,
   "id": "72f9d57a",
   "metadata": {},
   "outputs": [
    {
     "data": {
      "text/plain": [
       "array([12, 17, 22, 27, 32, 37, 42, 47])"
      ]
     },
     "execution_count": 57,
     "metadata": {},
     "output_type": "execute_result"
    }
   ],
   "source": [
    "H=np.array([i for i in range(12,50,5)])\n",
    "H"
   ]
  },
  {
   "cell_type": "code",
   "execution_count": 60,
   "id": "e9eaad3d",
   "metadata": {},
   "outputs": [
    {
     "data": {
      "text/plain": [
       "array([ -2,  -7, -12, -17,  32, -27, -32, -37])"
      ]
     },
     "execution_count": 60,
     "metadata": {},
     "output_type": "execute_result"
    }
   ],
   "source": [
    "H= np.array([i if (i%2==0 and i%3==2) else  10-i     for i  in range(12,50,5)])\n",
    "H"
   ]
  },
  {
   "cell_type": "code",
   "execution_count": 61,
   "id": "a5abb26f",
   "metadata": {},
   "outputs": [],
   "source": [
    "def function(i):\n",
    "    if (i%2==0 and i%3==2):\n",
    "        return i\n",
    "    else:\n",
    "        return 10-i"
   ]
  },
  {
   "cell_type": "code",
   "execution_count": 62,
   "id": "3e1c6c0b",
   "metadata": {},
   "outputs": [
    {
     "data": {
      "text/plain": [
       "array([ -2,  -7, -12, -17,  32, -27, -32, -37])"
      ]
     },
     "execution_count": 62,
     "metadata": {},
     "output_type": "execute_result"
    }
   ],
   "source": [
    "H=np.array([ function(i)  for i  in range(12,50,5) ])\n",
    "H"
   ]
  },
  {
   "cell_type": "code",
   "execution_count": 63,
   "id": "903f7cd5",
   "metadata": {},
   "outputs": [
    {
     "data": {
      "text/plain": [
       "8"
      ]
     },
     "execution_count": 63,
     "metadata": {},
     "output_type": "execute_result"
    }
   ],
   "source": [
    "H.size"
   ]
  },
  {
   "cell_type": "code",
   "execution_count": 64,
   "id": "3694859f",
   "metadata": {},
   "outputs": [],
   "source": [
    "H=H.reshape((2,4))"
   ]
  },
  {
   "cell_type": "code",
   "execution_count": 65,
   "id": "1122ba05",
   "metadata": {},
   "outputs": [
    {
     "data": {
      "text/plain": [
       "array([[ -2,  -7, -12, -17],\n",
       "       [ 32, -27, -32, -37]])"
      ]
     },
     "execution_count": 65,
     "metadata": {},
     "output_type": "execute_result"
    }
   ],
   "source": [
    "H"
   ]
  },
  {
   "cell_type": "code",
   "execution_count": 66,
   "id": "9ef54cc2",
   "metadata": {},
   "outputs": [
    {
     "data": {
      "text/plain": [
       "array([-38, -64])"
      ]
     },
     "execution_count": 66,
     "metadata": {},
     "output_type": "execute_result"
    }
   ],
   "source": [
    "np.sum(H,axis=1)"
   ]
  },
  {
   "cell_type": "code",
   "execution_count": 67,
   "id": "bda902b9",
   "metadata": {},
   "outputs": [
    {
     "data": {
      "text/plain": [
       "array([ 30, -34, -44, -54])"
      ]
     },
     "execution_count": 67,
     "metadata": {},
     "output_type": "execute_result"
    }
   ],
   "source": [
    "np.sum(H,axis=0)"
   ]
  },
  {
   "cell_type": "code",
   "execution_count": 69,
   "id": "136de63c",
   "metadata": {},
   "outputs": [
    {
     "data": {
      "text/plain": [
       "array([-38, -64])"
      ]
     },
     "execution_count": 69,
     "metadata": {},
     "output_type": "execute_result"
    }
   ],
   "source": [
    "H.sum(axis=1)"
   ]
  },
  {
   "cell_type": "code",
   "execution_count": 65,
   "id": "2bdf2e10",
   "metadata": {},
   "outputs": [
    {
     "data": {
      "text/plain": [
       "-102"
      ]
     },
     "execution_count": 65,
     "metadata": {},
     "output_type": "execute_result"
    }
   ],
   "source": [
    "np.sum(H)"
   ]
  },
  {
   "cell_type": "code",
   "execution_count": 66,
   "id": "da6c8925",
   "metadata": {},
   "outputs": [],
   "source": [
    "A=np.random.random((5,8))\n",
    "B=np.random.random((5,8))"
   ]
  },
  {
   "cell_type": "code",
   "execution_count": 68,
   "id": "2aa1afa1",
   "metadata": {},
   "outputs": [
    {
     "data": {
      "text/plain": [
       "array([[0.23109696, 0.8698287 , 0.1997581 , 0.50876064, 0.77985749,\n",
       "        0.35638839, 0.49937397, 0.15792676],\n",
       "       [0.30536877, 0.85081992, 0.09058034, 0.05885319, 0.18822408,\n",
       "        0.63647011, 0.86708932, 0.04679552],\n",
       "       [0.54424269, 0.68878531, 0.78204552, 0.49662192, 0.87390909,\n",
       "        0.39019034, 0.53692998, 0.74715808],\n",
       "       [0.12546559, 0.26472541, 0.85394871, 0.06232374, 0.76824151,\n",
       "        0.73759152, 0.70139303, 0.62434132],\n",
       "       [0.40433115, 0.91790167, 0.96382331, 0.29227468, 0.2996082 ,\n",
       "        0.4172732 , 0.25384812, 0.56654098]])"
      ]
     },
     "execution_count": 68,
     "metadata": {},
     "output_type": "execute_result"
    }
   ],
   "source": [
    "A"
   ]
  },
  {
   "cell_type": "code",
   "execution_count": 69,
   "id": "0295be12",
   "metadata": {},
   "outputs": [
    {
     "data": {
      "text/plain": [
       "array([[0.71535917, 0.86993521, 0.22794822, 0.46875509, 0.50518286,\n",
       "        0.76975254, 0.31962828, 0.08721396],\n",
       "       [0.95571271, 0.48710702, 0.49286572, 0.30334442, 0.36472737,\n",
       "        0.34414579, 0.26756619, 0.20438251],\n",
       "       [0.6518553 , 0.99276638, 0.06793063, 0.69080096, 0.98716174,\n",
       "        0.06200063, 0.0799896 , 0.2878206 ],\n",
       "       [0.24250227, 0.70271115, 0.74307871, 0.36243225, 0.27724414,\n",
       "        0.03966268, 0.73989201, 0.52408864],\n",
       "       [0.61495969, 0.18437019, 0.97019028, 0.33067862, 0.70149234,\n",
       "        0.55179914, 0.52876033, 0.98401091]])"
      ]
     },
     "execution_count": 69,
     "metadata": {},
     "output_type": "execute_result"
    }
   ],
   "source": [
    "B"
   ]
  },
  {
   "cell_type": "code",
   "execution_count": 67,
   "id": "39ab0467",
   "metadata": {},
   "outputs": [
    {
     "data": {
      "text/plain": [
       "array([[0.94645613, 1.73976391, 0.42770632, 0.97751573, 1.28504035,\n",
       "        1.12614092, 0.81900225, 0.24514072],\n",
       "       [1.26108148, 1.33792694, 0.58344605, 0.36219761, 0.55295145,\n",
       "        0.9806159 , 1.13465551, 0.25117802],\n",
       "       [1.19609798, 1.68155169, 0.84997615, 1.18742288, 1.86107082,\n",
       "        0.45219098, 0.61691958, 1.03497869],\n",
       "       [0.36796786, 0.96743657, 1.59702742, 0.42475599, 1.04548565,\n",
       "        0.77725421, 1.44128503, 1.14842996],\n",
       "       [1.01929084, 1.10227187, 1.93401359, 0.6229533 , 1.00110055,\n",
       "        0.96907234, 0.78260845, 1.55055189]])"
      ]
     },
     "execution_count": 67,
     "metadata": {},
     "output_type": "execute_result"
    }
   ],
   "source": [
    "A+B"
   ]
  },
  {
   "cell_type": "code",
   "execution_count": 70,
   "id": "56997e50",
   "metadata": {},
   "outputs": [
    {
     "data": {
      "text/plain": [
       "array([[-4.84262212e-01, -1.06513792e-04, -2.81901234e-02,\n",
       "         4.00055513e-02,  2.74674630e-01, -4.13364149e-01,\n",
       "         1.79745696e-01,  7.07128049e-02],\n",
       "       [-6.50343947e-01,  3.63712900e-01, -4.02285378e-01,\n",
       "        -2.44491226e-01, -1.76503297e-01,  2.92324314e-01,\n",
       "         5.99523131e-01, -1.57586988e-01],\n",
       "       [-1.07612609e-01, -3.03981073e-01,  7.14114881e-01,\n",
       "        -1.94179041e-01, -1.13252649e-01,  3.28189711e-01,\n",
       "         4.56940385e-01,  4.59337482e-01],\n",
       "       [-1.17036685e-01, -4.37985742e-01,  1.10869992e-01,\n",
       "        -3.00108504e-01,  4.90997375e-01,  6.97928838e-01,\n",
       "        -3.84989795e-02,  1.00252682e-01],\n",
       "       [-2.10628545e-01,  7.33531480e-01, -6.36697408e-03,\n",
       "        -3.84039376e-02, -4.01884136e-01, -1.34525945e-01,\n",
       "        -2.74912212e-01, -4.17469927e-01]])"
      ]
     },
     "execution_count": 70,
     "metadata": {},
     "output_type": "execute_result"
    }
   ],
   "source": [
    "A-B"
   ]
  },
  {
   "cell_type": "code",
   "execution_count": 71,
   "id": "d623508a",
   "metadata": {},
   "outputs": [
    {
     "data": {
      "text/plain": [
       "array([[0.23109696, 0.30536877, 0.54424269, 0.12546559, 0.40433115],\n",
       "       [0.8698287 , 0.85081992, 0.68878531, 0.26472541, 0.91790167],\n",
       "       [0.1997581 , 0.09058034, 0.78204552, 0.85394871, 0.96382331],\n",
       "       [0.50876064, 0.05885319, 0.49662192, 0.06232374, 0.29227468],\n",
       "       [0.77985749, 0.18822408, 0.87390909, 0.76824151, 0.2996082 ],\n",
       "       [0.35638839, 0.63647011, 0.39019034, 0.73759152, 0.4172732 ],\n",
       "       [0.49937397, 0.86708932, 0.53692998, 0.70139303, 0.25384812],\n",
       "       [0.15792676, 0.04679552, 0.74715808, 0.62434132, 0.56654098]])"
      ]
     },
     "execution_count": 71,
     "metadata": {},
     "output_type": "execute_result"
    }
   ],
   "source": [
    "A.T"
   ]
  },
  {
   "cell_type": "code",
   "execution_count": 72,
   "id": "63d3b034",
   "metadata": {},
   "outputs": [
    {
     "data": {
      "text/plain": [
       "array([[1.09100267, 1.05280518, 0.72566365, 0.7560996 , 1.08379793,\n",
       "        0.54480812, 0.50573049, 0.70283252],\n",
       "       [2.51303675, 2.21019708, 1.7516566 , 1.54111714, 2.14697693,\n",
       "        1.52206114, 1.24198636, 1.48996535],\n",
       "       [1.53904507, 1.77206699, 1.71294641, 1.28956677, 1.81882384,\n",
       "        0.79913124, 1.29210143, 1.65698101],\n",
       "       [0.93876976, 1.06196847, 0.50858715, 0.71864095, 0.99103602,\n",
       "        0.60641359, 0.41874209, 0.51960225],\n",
       "       [1.6779759 , 2.23278902, 1.19144241, 1.40386565, 1.74847403,\n",
       "        0.91505079, 1.09636722, 1.0554576 ],\n",
       "       [1.55304974, 1.60267825, 1.37436123, 1.03498267, 1.29456723,\n",
       "        0.77706728, 1.08179644, 1.07063493],\n",
       "       [1.86211646, 1.92951306, 1.34513521, 1.20617214, 1.47109273,\n",
       "        0.88398183, 1.08774655, 0.99269121],\n",
       "       [1.14454044, 1.44511879, 1.12340525, 1.01798607, 1.4049345 ,\n",
       "        0.52137316, 0.88427318, 1.12307779]])"
      ]
     },
     "execution_count": 72,
     "metadata": {},
     "output_type": "execute_result"
    }
   ],
   "source": [
    "A.T.dot(B)"
   ]
  },
  {
   "cell_type": "code",
   "execution_count": 74,
   "id": "62b736cf",
   "metadata": {},
   "outputs": [
    {
     "data": {
      "text/plain": [
       "array([[0.16531733, 0.75669461, 0.0455345 , 0.23848414, 0.39397064,\n",
       "        0.27433086, 0.15961404, 0.01377342],\n",
       "       [0.29184481, 0.41444036, 0.04464394, 0.01785279, 0.06865047,\n",
       "        0.21903851, 0.23200379, 0.00956419],\n",
       "       [0.35476748, 0.6838029 , 0.05312485, 0.3430669 , 0.86268961,\n",
       "        0.02419205, 0.04294881, 0.21504749],\n",
       "       [0.03042569, 0.1860255 , 0.63455111, 0.02258813, 0.21299045,\n",
       "        0.02925486, 0.51895509, 0.3272102 ],\n",
       "       [0.24864736, 0.16923371, 0.93509201, 0.09664899, 0.21017286,\n",
       "        0.23025099, 0.13422481, 0.5574825 ]])"
      ]
     },
     "execution_count": 74,
     "metadata": {},
     "output_type": "execute_result"
    }
   ],
   "source": [
    "A*B"
   ]
  },
  {
   "cell_type": "code",
   "execution_count": 77,
   "id": "c290701d",
   "metadata": {},
   "outputs": [
    {
     "data": {
      "text/plain": [
       "array([[0.80642881, 0.7877524 , 0.67034917, 0.13360693, 0.67563976,\n",
       "        0.98308587, 0.3504024 , 0.55951734],\n",
       "       [0.11042336, 0.83408701, 0.08359943, 0.2235462 , 0.94367294,\n",
       "        0.28333592, 0.30225285, 0.12026535],\n",
       "       [0.36844806, 0.82894551, 0.67236736, 0.52283722, 0.2997568 ,\n",
       "        0.56381476, 0.9671399 , 0.33614874],\n",
       "       [0.84493625, 0.85280171, 0.24667259, 0.12798415, 0.31913767,\n",
       "        0.27798358, 0.14087215, 0.23513889],\n",
       "       [0.56310733, 0.47374686, 0.7296997 , 0.51787633, 0.26350321,\n",
       "        0.13010858, 0.04192345, 0.57605385]])"
      ]
     },
     "execution_count": 77,
     "metadata": {},
     "output_type": "execute_result"
    }
   ],
   "source": [
    "D=np.random.random((5,8))\n",
    "D"
   ]
  },
  {
   "cell_type": "code",
   "execution_count": 78,
   "id": "48d143d0",
   "metadata": {},
   "outputs": [
    {
     "data": {
      "text/plain": [
       "array([[80, 78, 67, 13, 67, 98, 35, 55],\n",
       "       [11, 83,  8, 22, 94, 28, 30, 12],\n",
       "       [36, 82, 67, 52, 29, 56, 96, 33],\n",
       "       [84, 85, 24, 12, 31, 27, 14, 23],\n",
       "       [56, 47, 72, 51, 26, 13,  4, 57]])"
      ]
     },
     "execution_count": 78,
     "metadata": {},
     "output_type": "execute_result"
    }
   ],
   "source": [
    "C=np.array(D*100,dtype=int)\n",
    "C"
   ]
  },
  {
   "cell_type": "code",
   "execution_count": 80,
   "id": "1c98bfa0",
   "metadata": {},
   "outputs": [
    {
     "data": {
      "text/plain": [
       "array([  1.  ,  30.75,  60.5 ,  90.25, 120.  ])"
      ]
     },
     "execution_count": 80,
     "metadata": {},
     "output_type": "execute_result"
    }
   ],
   "source": [
    "D=np.linspace(1,120,5)\n",
    "D"
   ]
  },
  {
   "cell_type": "code",
   "execution_count": 70,
   "id": "3cbf33dc",
   "metadata": {},
   "outputs": [
    {
     "data": {
      "text/plain": [
       "array([  0,   1,   2,   3,   4,   5,   6,   7,   8,   9,  10,  11,  12,\n",
       "        13,  14,  15,  16,  17,  18,  19,  20,  21,  22,  23,  24,  25,\n",
       "        26,  27,  28,  29,  30,  31,  32,  33,  34,  35,  36,  37,  38,\n",
       "        39,  40,  41,  42,  43,  44,  45,  46,  47,  48,  49,  50,  51,\n",
       "        52,  53,  54,  55,  56,  57,  58,  59,  60,  61,  62,  63,  64,\n",
       "        65,  66,  67,  68,  69,  70,  71,  72,  73,  74,  75,  76,  77,\n",
       "        78,  79,  80,  81,  82,  83,  84,  85,  86,  87,  88,  89,  90,\n",
       "        91,  92,  93,  94,  95,  96,  97,  98,  99, 100, 101, 102, 103,\n",
       "       104, 105, 106, 107, 108, 109, 110, 111, 112, 113, 114, 115, 116,\n",
       "       117, 118, 119])"
      ]
     },
     "execution_count": 70,
     "metadata": {},
     "output_type": "execute_result"
    }
   ],
   "source": [
    "F=np.array([i for i in range(120)])\n",
    "F"
   ]
  },
  {
   "cell_type": "code",
   "execution_count": 71,
   "id": "d4c81bd5",
   "metadata": {},
   "outputs": [
    {
     "data": {
      "text/plain": [
       "array([  1,   8,  15,  22,  29,  36,  43,  50,  57,  64,  71,  78,  85,\n",
       "        92,  99, 106, 113])"
      ]
     },
     "execution_count": 71,
     "metadata": {},
     "output_type": "execute_result"
    }
   ],
   "source": [
    "F[F%7==1]"
   ]
  },
  {
   "cell_type": "code",
   "execution_count": 77,
   "id": "61f839ea",
   "metadata": {},
   "outputs": [
    {
     "data": {
      "text/plain": [
       "array([  1,   6,  11,  16,  18,  21,  26,  30,  31,  36,  41,  42,  46,\n",
       "        51,  54,  56,  61,  66,  71,  76,  78,  81,  86,  90,  91,  96,\n",
       "       101, 102, 106, 111, 114, 116])"
      ]
     },
     "execution_count": 77,
     "metadata": {},
     "output_type": "execute_result"
    }
   ],
   "source": [
    "F[((F%3==0) & (F%4==2)) | (F%5==1)]"
   ]
  },
  {
   "cell_type": "code",
   "execution_count": 90,
   "id": "92f85899",
   "metadata": {},
   "outputs": [
    {
     "name": "stderr",
     "output_type": "stream",
     "text": [
      "<ipython-input-90-a6fd627f9e16>:3: RuntimeWarning: divide by zero encountered in true_divide\n",
      "  np.where(a != 0, 1 / a, a)\n"
     ]
    },
    {
     "data": {
      "text/plain": [
       "array([1.        , 0.33333333, 0.        ])"
      ]
     },
     "execution_count": 90,
     "metadata": {},
     "output_type": "execute_result"
    }
   ],
   "source": [
    "a = np.array([1, 3, 0], float) \n",
    "    \n",
    "np.where(a != 0, 1 / a, a)"
   ]
  },
  {
   "cell_type": "code",
   "execution_count": 78,
   "id": "9b79b216",
   "metadata": {},
   "outputs": [
    {
     "data": {
      "text/plain": [
       "array([[15.02249345, 14.61300176, 70.92975517, 61.29153822, 21.00758255],\n",
       "       [19.81575838,  8.97759357,  7.00928194, 78.31827818, 88.59223034],\n",
       "       [17.60660897, 86.93734412, 25.33312068, 12.871229  , 91.14221306]])"
      ]
     },
     "execution_count": 78,
     "metadata": {},
     "output_type": "execute_result"
    }
   ],
   "source": [
    "g=np.random.random((3,5))*100\n",
    "g"
   ]
  },
  {
   "cell_type": "code",
   "execution_count": 79,
   "id": "d5d74e7a",
   "metadata": {},
   "outputs": [
    {
     "data": {
      "text/plain": [
       "91.14221305632168"
      ]
     },
     "execution_count": 79,
     "metadata": {},
     "output_type": "execute_result"
    }
   ],
   "source": [
    "g.max()"
   ]
  },
  {
   "cell_type": "code",
   "execution_count": 80,
   "id": "e20b0eef",
   "metadata": {},
   "outputs": [
    {
     "data": {
      "text/plain": [
       "14"
      ]
     },
     "execution_count": 80,
     "metadata": {},
     "output_type": "execute_result"
    }
   ],
   "source": [
    "g.argmax()"
   ]
  },
  {
   "cell_type": "code",
   "execution_count": 81,
   "id": "70ac9835",
   "metadata": {},
   "outputs": [
    {
     "data": {
      "text/plain": [
       "41.29786862608408"
      ]
     },
     "execution_count": 81,
     "metadata": {},
     "output_type": "execute_result"
    }
   ],
   "source": [
    "g.mean()"
   ]
  },
  {
   "cell_type": "code",
   "execution_count": 82,
   "id": "5caadde7",
   "metadata": {},
   "outputs": [
    {
     "data": {
      "text/plain": [
       "array([[0, 1, 1, 2, 0],\n",
       "       [2, 0, 2, 0, 1],\n",
       "       [1, 2, 0, 1, 2]])"
      ]
     },
     "execution_count": 82,
     "metadata": {},
     "output_type": "execute_result"
    }
   ],
   "source": [
    "g.argsort(axis=0)"
   ]
  },
  {
   "cell_type": "code",
   "execution_count": 83,
   "id": "8065c0c0",
   "metadata": {},
   "outputs": [
    {
     "data": {
      "text/plain": [
       "array([[1, 0, 4, 3, 2],\n",
       "       [2, 1, 0, 3, 4],\n",
       "       [3, 0, 2, 1, 4]])"
      ]
     },
     "execution_count": 83,
     "metadata": {},
     "output_type": "execute_result"
    }
   ],
   "source": [
    "g.argsort(axis=1)"
   ]
  },
  {
   "cell_type": "code",
   "execution_count": 107,
   "id": "e9786357",
   "metadata": {},
   "outputs": [
    {
     "data": {
      "text/plain": [
       "array([53.55384602, 16.29492612, 66.31507401,  2.02902145, 69.95145382,\n",
       "       34.47232512, 75.31980171, 33.55653787, 27.04551333, 89.53952797,\n",
       "       49.97366496, 44.47985272, 50.556283  , 63.49211644, 35.55842529])"
      ]
     },
     "execution_count": 107,
     "metadata": {},
     "output_type": "execute_result"
    }
   ],
   "source": [
    "g.flatten()"
   ]
  },
  {
   "cell_type": "code",
   "execution_count": 85,
   "id": "ed2754e0",
   "metadata": {},
   "outputs": [
    {
     "data": {
      "text/plain": [
       "array([15.02249345, 15.02249345, 15.02249345, 14.61300176, 14.61300176,\n",
       "       14.61300176, 70.92975517, 70.92975517, 70.92975517, 61.29153822,\n",
       "       61.29153822, 61.29153822, 21.00758255, 21.00758255, 21.00758255,\n",
       "       19.81575838, 19.81575838, 19.81575838,  8.97759357,  8.97759357,\n",
       "        8.97759357,  7.00928194,  7.00928194,  7.00928194, 78.31827818,\n",
       "       78.31827818, 78.31827818, 88.59223034, 88.59223034, 88.59223034,\n",
       "       17.60660897, 17.60660897, 17.60660897, 86.93734412, 86.93734412,\n",
       "       86.93734412, 25.33312068, 25.33312068, 25.33312068, 12.871229  ,\n",
       "       12.871229  , 12.871229  , 91.14221306, 91.14221306, 91.14221306])"
      ]
     },
     "execution_count": 85,
     "metadata": {},
     "output_type": "execute_result"
    }
   ],
   "source": [
    "g.repeat(3)"
   ]
  },
  {
   "cell_type": "code",
   "execution_count": null,
   "id": "7cf0da21",
   "metadata": {},
   "outputs": [],
   "source": [
    "np."
   ]
  },
  {
   "cell_type": "markdown",
   "id": "861e50ff",
   "metadata": {},
   "source": [
    "### refrence"
   ]
  },
  {
   "cell_type": "markdown",
   "id": "0e588b89",
   "metadata": {},
   "source": [
    "https://cs231n.github.io/python-numpy-tutorial/"
   ]
  },
  {
   "cell_type": "markdown",
   "id": "cb1e81dd",
   "metadata": {},
   "source": [
    "http://index-of.es/Varios-2/NumPy%20Tutorial.pdf"
   ]
  },
  {
   "cell_type": "markdown",
   "id": "9977f746",
   "metadata": {},
   "source": [
    "https://sites.engineering.ucsb.edu/~shell/che210d/numpy.pdf"
   ]
  },
  {
   "cell_type": "markdown",
   "id": "5bd08845",
   "metadata": {},
   "source": [
    "https://numpy.org/doc/1.20/numpy-user.pdf"
   ]
  }
 ],
 "metadata": {
  "kernelspec": {
   "display_name": "Python 3",
   "language": "python",
   "name": "python3"
  },
  "language_info": {
   "codemirror_mode": {
    "name": "ipython",
    "version": 3
   },
   "file_extension": ".py",
   "mimetype": "text/x-python",
   "name": "python",
   "nbconvert_exporter": "python",
   "pygments_lexer": "ipython3",
   "version": "3.8.10"
  }
 },
 "nbformat": 4,
 "nbformat_minor": 5
}
