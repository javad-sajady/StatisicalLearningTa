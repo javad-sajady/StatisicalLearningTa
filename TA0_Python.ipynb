{
 "cells": [
  {
   "cell_type": "markdown",
   "id": "0bce0387",
   "metadata": {},
   "source": [
    "# welcome to the python workshop"
   ]
  },
  {
   "cell_type": "markdown",
   "id": "7495aa14",
   "metadata": {},
   "source": [
    "## Why jupyter notebook ?"
   ]
  },
  {
   "cell_type": "markdown",
   "id": "0a3f461b",
   "metadata": {},
   "source": [
    "##### 1 ) we can write like here  right now  (latex  and  write like discrpition with headding and sutch stuff )"
   ]
  },
  {
   "cell_type": "markdown",
   "id": "3c6373cb",
   "metadata": {},
   "source": [
    "#### 2 ) we can run code individually  "
   ]
  },
  {
   "cell_type": "markdown",
   "id": "080a6c78",
   "metadata": {},
   "source": [
    "#### 3 ) good for presentation "
   ]
  },
  {
   "cell_type": "markdown",
   "id": "15df5f3a",
   "metadata": {},
   "source": [
    "#### 4) etc"
   ]
  },
  {
   "cell_type": "markdown",
   "id": "fc90733c",
   "metadata": {},
   "source": [
    "## Python"
   ]
  },
  {
   "cell_type": "markdown",
   "id": "4584dbbf",
   "metadata": {},
   "source": [
    "#### Calculator :)"
   ]
  },
  {
   "cell_type": "code",
   "execution_count": 23,
   "id": "e0997e6c",
   "metadata": {},
   "outputs": [
    {
     "data": {
      "text/plain": [
       "83645583265252337282341922822703703417353045980"
      ]
     },
     "execution_count": 23,
     "metadata": {},
     "output_type": "execute_result"
    }
   ],
   "source": [
    "3+2*4+(2283-36)**14"
   ]
  },
  {
   "cell_type": "code",
   "execution_count": 21,
   "id": "5907a96b",
   "metadata": {},
   "outputs": [
    {
     "data": {
      "text/plain": [
       "1853020188851841"
      ]
     },
     "execution_count": 21,
     "metadata": {},
     "output_type": "execute_result"
    }
   ],
   "source": [
    "3**32"
   ]
  },
  {
   "cell_type": "code",
   "execution_count": 22,
   "id": "94541f73",
   "metadata": {},
   "outputs": [
    {
     "data": {
      "text/plain": [
       "1"
      ]
     },
     "execution_count": 22,
     "metadata": {},
     "output_type": "execute_result"
    }
   ],
   "source": [
    "3^2"
   ]
  },
  {
   "cell_type": "code",
   "execution_count": 25,
   "id": "59ff5f02",
   "metadata": {},
   "outputs": [
    {
     "data": {
      "text/plain": [
       "82791511"
      ]
     },
     "execution_count": 25,
     "metadata": {},
     "output_type": "execute_result"
    }
   ],
   "source": [
    "23456781123456712345678212345%112345678"
   ]
  },
  {
   "cell_type": "markdown",
   "id": "cac04788",
   "metadata": {},
   "source": [
    "#### types:"
   ]
  },
  {
   "cell_type": "code",
   "execution_count": 2,
   "id": "d0cf8c3f",
   "metadata": {},
   "outputs": [
    {
     "data": {
      "text/plain": [
       "int"
      ]
     },
     "execution_count": 2,
     "metadata": {},
     "output_type": "execute_result"
    }
   ],
   "source": [
    "type(3)"
   ]
  },
  {
   "cell_type": "code",
   "execution_count": 3,
   "id": "d902baed",
   "metadata": {},
   "outputs": [
    {
     "data": {
      "text/plain": [
       "float"
      ]
     },
     "execution_count": 3,
     "metadata": {},
     "output_type": "execute_result"
    }
   ],
   "source": [
    "type(3.5)"
   ]
  },
  {
   "cell_type": "code",
   "execution_count": 10,
   "id": "dba34df6",
   "metadata": {},
   "outputs": [],
   "source": [
    "class A:\n",
    "    x=5"
   ]
  },
  {
   "cell_type": "code",
   "execution_count": 13,
   "id": "dffb0990",
   "metadata": {},
   "outputs": [
    {
     "data": {
      "text/plain": [
       "__main__.A"
      ]
     },
     "execution_count": 13,
     "metadata": {},
     "output_type": "execute_result"
    }
   ],
   "source": [
    "B=A()\n",
    "type(B)"
   ]
  },
  {
   "cell_type": "markdown",
   "id": "22f964f9",
   "metadata": {},
   "source": [
    "#### hello world"
   ]
  },
  {
   "cell_type": "code",
   "execution_count": 14,
   "id": "e356deb4",
   "metadata": {},
   "outputs": [
    {
     "name": "stdout",
     "output_type": "stream",
     "text": [
      "this is a python workshop\n"
     ]
    }
   ],
   "source": [
    "print(\"this is a python workshop\")"
   ]
  },
  {
   "cell_type": "code",
   "execution_count": 8,
   "id": "3ecd074c",
   "metadata": {},
   "outputs": [
    {
     "name": "stdout",
     "output_type": "stream",
     "text": [
      "3+2 6 haha i got you all :) 9\n"
     ]
    }
   ],
   "source": [
    "print(\"3+2\",3+3,\"haha i got you all :)\",3**2)"
   ]
  },
  {
   "cell_type": "code",
   "execution_count": 26,
   "id": "249f4195",
   "metadata": {},
   "outputs": [],
   "source": [
    "a=3"
   ]
  },
  {
   "cell_type": "code",
   "execution_count": 27,
   "id": "259b1495",
   "metadata": {},
   "outputs": [],
   "source": [
    "b=\"hello world\""
   ]
  },
  {
   "cell_type": "code",
   "execution_count": 28,
   "id": "ff968733",
   "metadata": {},
   "outputs": [
    {
     "ename": "TypeError",
     "evalue": "unsupported operand type(s) for +: 'int' and 'str'",
     "output_type": "error",
     "traceback": [
      "\u001b[0;31m---------------------------------------------------------------------------\u001b[0m",
      "\u001b[0;31mTypeError\u001b[0m                                 Traceback (most recent call last)",
      "\u001b[0;32m<ipython-input-28-ca730b97bf8a>\u001b[0m in \u001b[0;36m<module>\u001b[0;34m\u001b[0m\n\u001b[0;32m----> 1\u001b[0;31m \u001b[0ma\u001b[0m\u001b[0;34m+\u001b[0m\u001b[0mb\u001b[0m\u001b[0;34m\u001b[0m\u001b[0;34m\u001b[0m\u001b[0m\n\u001b[0m",
      "\u001b[0;31mTypeError\u001b[0m: unsupported operand type(s) for +: 'int' and 'str'"
     ]
    }
   ],
   "source": [
    "a+b"
   ]
  },
  {
   "cell_type": "code",
   "execution_count": 29,
   "id": "1a531eac",
   "metadata": {},
   "outputs": [
    {
     "data": {
      "text/plain": [
       "'3hello world'"
      ]
     },
     "execution_count": 29,
     "metadata": {},
     "output_type": "execute_result"
    }
   ],
   "source": [
    "str(a)+b"
   ]
  },
  {
   "cell_type": "code",
   "execution_count": 30,
   "id": "813cb39f",
   "metadata": {},
   "outputs": [
    {
     "data": {
      "text/plain": [
       "'hello worldhello worldhello world'"
      ]
     },
     "execution_count": 30,
     "metadata": {},
     "output_type": "execute_result"
    }
   ],
   "source": [
    "b*3"
   ]
  },
  {
   "cell_type": "markdown",
   "id": "49f23b24",
   "metadata": {},
   "source": [
    "#### logic"
   ]
  },
  {
   "cell_type": "code",
   "execution_count": 32,
   "id": "b413b5f0",
   "metadata": {},
   "outputs": [
    {
     "ename": "TypeError",
     "evalue": "'>' not supported between instances of 'int' and 'str'",
     "output_type": "error",
     "traceback": [
      "\u001b[0;31m---------------------------------------------------------------------------\u001b[0m",
      "\u001b[0;31mTypeError\u001b[0m                                 Traceback (most recent call last)",
      "\u001b[0;32m<ipython-input-32-b72c5f2557dd>\u001b[0m in \u001b[0;36m<module>\u001b[0;34m\u001b[0m\n\u001b[0;32m----> 1\u001b[0;31m \u001b[0ma\u001b[0m\u001b[0;34m>\u001b[0m\u001b[0mb\u001b[0m\u001b[0;34m\u001b[0m\u001b[0;34m\u001b[0m\u001b[0m\n\u001b[0m",
      "\u001b[0;31mTypeError\u001b[0m: '>' not supported between instances of 'int' and 'str'"
     ]
    }
   ],
   "source": [
    "a>b"
   ]
  },
  {
   "cell_type": "code",
   "execution_count": 33,
   "id": "2b214162",
   "metadata": {},
   "outputs": [],
   "source": [
    "a=3245678\n",
    "b=23456"
   ]
  },
  {
   "cell_type": "code",
   "execution_count": 34,
   "id": "09636c7d",
   "metadata": {},
   "outputs": [
    {
     "data": {
      "text/plain": [
       "True"
      ]
     },
     "execution_count": 34,
     "metadata": {},
     "output_type": "execute_result"
    }
   ],
   "source": [
    "a>b"
   ]
  },
  {
   "cell_type": "code",
   "execution_count": 35,
   "id": "04fe73bb",
   "metadata": {},
   "outputs": [
    {
     "data": {
      "text/plain": [
       "False"
      ]
     },
     "execution_count": 35,
     "metadata": {},
     "output_type": "execute_result"
    }
   ],
   "source": [
    "b==a"
   ]
  },
  {
   "cell_type": "code",
   "execution_count": 36,
   "id": "7b916f9a",
   "metadata": {},
   "outputs": [
    {
     "data": {
      "text/plain": [
       "True"
      ]
     },
     "execution_count": 36,
     "metadata": {},
     "output_type": "execute_result"
    }
   ],
   "source": [
    "b<=a"
   ]
  },
  {
   "cell_type": "code",
   "execution_count": 37,
   "id": "a16716ee",
   "metadata": {},
   "outputs": [
    {
     "data": {
      "text/plain": [
       "True"
      ]
     },
     "execution_count": 37,
     "metadata": {},
     "output_type": "execute_result"
    }
   ],
   "source": [
    "a!=b"
   ]
  },
  {
   "cell_type": "code",
   "execution_count": 43,
   "id": "c5562e07",
   "metadata": {},
   "outputs": [],
   "source": [
    "a=1\n",
    "b=0\n",
    "c=True #1\n",
    "d=False #0"
   ]
  },
  {
   "cell_type": "code",
   "execution_count": 44,
   "id": "5e655c2a",
   "metadata": {},
   "outputs": [
    {
     "data": {
      "text/plain": [
       "0"
      ]
     },
     "execution_count": 44,
     "metadata": {},
     "output_type": "execute_result"
    }
   ],
   "source": [
    "a and b"
   ]
  },
  {
   "cell_type": "code",
   "execution_count": 9,
   "id": "f9cd392e",
   "metadata": {},
   "outputs": [
    {
     "data": {
      "text/plain": [
       "0"
      ]
     },
     "execution_count": 9,
     "metadata": {},
     "output_type": "execute_result"
    }
   ],
   "source": [
    "0 and  1"
   ]
  },
  {
   "cell_type": "code",
   "execution_count": 45,
   "id": "ea207629",
   "metadata": {},
   "outputs": [
    {
     "data": {
      "text/plain": [
       "1"
      ]
     },
     "execution_count": 45,
     "metadata": {},
     "output_type": "execute_result"
    }
   ],
   "source": [
    "b or a"
   ]
  },
  {
   "cell_type": "code",
   "execution_count": 46,
   "id": "bfc3d3a8",
   "metadata": {},
   "outputs": [
    {
     "data": {
      "text/plain": [
       "False"
      ]
     },
     "execution_count": 46,
     "metadata": {},
     "output_type": "execute_result"
    }
   ],
   "source": [
    " c and d"
   ]
  },
  {
   "cell_type": "code",
   "execution_count": 47,
   "id": "858f2656",
   "metadata": {},
   "outputs": [
    {
     "data": {
      "text/plain": [
       "True"
      ]
     },
     "execution_count": 47,
     "metadata": {},
     "output_type": "execute_result"
    }
   ],
   "source": [
    "c or d"
   ]
  },
  {
   "cell_type": "code",
   "execution_count": 48,
   "id": "37857bed",
   "metadata": {},
   "outputs": [
    {
     "data": {
      "text/plain": [
       "True"
      ]
     },
     "execution_count": 48,
     "metadata": {},
     "output_type": "execute_result"
    }
   ],
   "source": [
    "a and c"
   ]
  },
  {
   "cell_type": "code",
   "execution_count": 49,
   "id": "f6ea9bb8",
   "metadata": {},
   "outputs": [
    {
     "data": {
      "text/plain": [
       "1"
      ]
     },
     "execution_count": 49,
     "metadata": {},
     "output_type": "execute_result"
    }
   ],
   "source": [
    "a or c"
   ]
  },
  {
   "cell_type": "code",
   "execution_count": 50,
   "id": "e92bfd5f",
   "metadata": {},
   "outputs": [
    {
     "data": {
      "text/plain": [
       "True"
      ]
     },
     "execution_count": 50,
     "metadata": {},
     "output_type": "execute_result"
    }
   ],
   "source": [
    "a==c"
   ]
  },
  {
   "cell_type": "markdown",
   "id": "de350167",
   "metadata": {},
   "source": [
    "### if else elif"
   ]
  },
  {
   "cell_type": "code",
   "execution_count": 55,
   "id": "de5668be",
   "metadata": {},
   "outputs": [
    {
     "name": "stdout",
     "output_type": "stream",
     "text": [
      "condition 2\n"
     ]
    }
   ],
   "source": [
    "a=23457\n",
    "b=56123456\n",
    "c=98765678976\n",
    "\n",
    "if(a>b):\n",
    "    print(\"condition 1\")\n",
    "elif(c>b):\n",
    "    print(\"condition 2\")\n",
    "else:\n",
    "    print(\"condition 3\")"
   ]
  },
  {
   "cell_type": "code",
   "execution_count": 10,
   "id": "e7ec7b1e",
   "metadata": {},
   "outputs": [],
   "source": [
    "x=3\n",
    "if x==2:\n",
    "    print(\"a\")"
   ]
  },
  {
   "cell_type": "markdown",
   "id": "bf1aeaa6",
   "metadata": {},
   "source": [
    "### while"
   ]
  },
  {
   "cell_type": "code",
   "execution_count": 11,
   "id": "f6342c3c",
   "metadata": {},
   "outputs": [
    {
     "name": "stdout",
     "output_type": "stream",
     "text": [
      "0 is lower than 10\n",
      "1 is lower than 10\n",
      "2 is lower than 10\n",
      "3 is lower than 10\n",
      "4 is lower than 10\n",
      "5 is lower than 10\n",
      "6 is lower than 10\n",
      "7 is lower than 10\n",
      "8 is lower than 10\n",
      "9 is lower than 10\n"
     ]
    }
   ],
   "source": [
    "s=0\n",
    "while(s<10):\n",
    "    print(s,\"is lower than 10\")\n",
    "    s+=1"
   ]
  },
  {
   "cell_type": "code",
   "execution_count": 60,
   "id": "22fabaec",
   "metadata": {},
   "outputs": [
    {
     "name": "stdout",
     "output_type": "stream",
     "text": [
      "1\n",
      "2\n",
      "3\n"
     ]
    }
   ],
   "source": [
    "i = 1\n",
    "while i < 6:\n",
    "    print(i)\n",
    "    if i == 3:\n",
    "        break\n",
    "    i += 1  "
   ]
  },
  {
   "cell_type": "code",
   "execution_count": 61,
   "id": "f2b9d3ea",
   "metadata": {},
   "outputs": [
    {
     "name": "stdout",
     "output_type": "stream",
     "text": [
      "1\n",
      "2\n",
      "3\n",
      "4\n",
      "5\n",
      "i is no longer less than 6\n"
     ]
    }
   ],
   "source": [
    "i = 1\n",
    "while i < 6:\n",
    "    print(i)\n",
    "    i += 1\n",
    "else:\n",
    "    print(\"i is no longer less than 6\")"
   ]
  },
  {
   "cell_type": "code",
   "execution_count": 62,
   "id": "5e9fd2ec",
   "metadata": {},
   "outputs": [
    {
     "name": "stdout",
     "output_type": "stream",
     "text": [
      "1\n",
      "2\n",
      "4\n",
      "5\n",
      "6\n"
     ]
    }
   ],
   "source": [
    "i = 0\n",
    "while i < 6:\n",
    "    i += 1\n",
    "    if i == 3:\n",
    "        continue\n",
    "    print(i)"
   ]
  },
  {
   "cell_type": "markdown",
   "id": "a5a820a5",
   "metadata": {},
   "source": [
    "### for"
   ]
  },
  {
   "cell_type": "code",
   "execution_count": 65,
   "id": "114e135d",
   "metadata": {},
   "outputs": [
    {
     "name": "stdout",
     "output_type": "stream",
     "text": [
      "0\n",
      "1\n",
      "2\n",
      "3\n",
      "4\n"
     ]
    }
   ],
   "source": [
    "for i in range(5):\n",
    "    print(i)"
   ]
  },
  {
   "cell_type": "code",
   "execution_count": 13,
   "id": "5b04199c",
   "metadata": {},
   "outputs": [
    {
     "name": "stdout",
     "output_type": "stream",
     "text": [
      "4\n",
      "10\n"
     ]
    }
   ],
   "source": [
    "for i in range(3,14):\n",
    "    if(i%2 ==0 and i%3==1):\n",
    "        print(i)"
   ]
  },
  {
   "cell_type": "code",
   "execution_count": 67,
   "id": "7b66be81",
   "metadata": {},
   "outputs": [
    {
     "name": "stdout",
     "output_type": "stream",
     "text": [
      "3\n",
      "5\n",
      "7\n",
      "9\n",
      "11\n",
      "13\n",
      "15\n",
      "17\n"
     ]
    }
   ],
   "source": [
    "for i in range(3,18,2):\n",
    "# int i=3;i<18 ;i+=2\n",
    "    print(i)"
   ]
  },
  {
   "cell_type": "code",
   "execution_count": 69,
   "id": "24a57730",
   "metadata": {},
   "outputs": [
    {
     "name": "stdout",
     "output_type": "stream",
     "text": [
      "100\n",
      "90\n",
      "80\n",
      "70\n",
      "60\n",
      "50\n",
      "40\n",
      "30\n",
      "20\n",
      "10\n"
     ]
    }
   ],
   "source": [
    "for i in range(100,1,-10):\n",
    "    print(i)"
   ]
  },
  {
   "cell_type": "markdown",
   "id": "d381e4c5",
   "metadata": {},
   "source": [
    "### String"
   ]
  },
  {
   "cell_type": "code",
   "execution_count": 74,
   "id": "3ffd7a60",
   "metadata": {},
   "outputs": [],
   "source": [
    "s=\"a\""
   ]
  },
  {
   "cell_type": "code",
   "execution_count": null,
   "id": "da2a3957",
   "metadata": {},
   "outputs": [],
   "source": [
    "char a='a';\n",
    "String a=\"a\";\n",
    "String a='a';"
   ]
  },
  {
   "cell_type": "code",
   "execution_count": 75,
   "id": "ef2d6819",
   "metadata": {},
   "outputs": [],
   "source": [
    "t='a'"
   ]
  },
  {
   "cell_type": "code",
   "execution_count": 76,
   "id": "f150492e",
   "metadata": {},
   "outputs": [
    {
     "data": {
      "text/plain": [
       "str"
      ]
     },
     "execution_count": 76,
     "metadata": {},
     "output_type": "execute_result"
    }
   ],
   "source": [
    "type(s)"
   ]
  },
  {
   "cell_type": "code",
   "execution_count": 77,
   "id": "0154018b",
   "metadata": {},
   "outputs": [
    {
     "data": {
      "text/plain": [
       "str"
      ]
     },
     "execution_count": 77,
     "metadata": {},
     "output_type": "execute_result"
    }
   ],
   "source": [
    "type(t)"
   ]
  },
  {
   "cell_type": "code",
   "execution_count": 15,
   "id": "33bda711",
   "metadata": {},
   "outputs": [],
   "source": [
    "l=\"abcdefghijklmnop\""
   ]
  },
  {
   "cell_type": "code",
   "execution_count": 16,
   "id": "3ec3b286",
   "metadata": {},
   "outputs": [
    {
     "data": {
      "text/plain": [
       "str"
      ]
     },
     "execution_count": 16,
     "metadata": {},
     "output_type": "execute_result"
    }
   ],
   "source": [
    "type(l)"
   ]
  },
  {
   "cell_type": "code",
   "execution_count": 17,
   "id": "89470887",
   "metadata": {},
   "outputs": [
    {
     "data": {
      "text/plain": [
       "16"
      ]
     },
     "execution_count": 17,
     "metadata": {},
     "output_type": "execute_result"
    }
   ],
   "source": [
    "len(l)"
   ]
  },
  {
   "cell_type": "code",
   "execution_count": 91,
   "id": "d2024e49",
   "metadata": {},
   "outputs": [
    {
     "data": {
      "text/plain": [
       "'bdfhj'"
      ]
     },
     "execution_count": 91,
     "metadata": {},
     "output_type": "execute_result"
    }
   ],
   "source": [
    "l[1:10:2]"
   ]
  },
  {
   "cell_type": "code",
   "execution_count": 92,
   "id": "a1124b1c",
   "metadata": {},
   "outputs": [
    {
     "name": "stdout",
     "output_type": "stream",
     "text": [
      "a\n",
      "b\n",
      "c\n",
      "d\n",
      "e\n",
      "f\n",
      "g\n",
      "h\n",
      "i\n",
      "j\n",
      "k\n",
      "l\n",
      "m\n",
      "n\n",
      "o\n",
      "p\n"
     ]
    }
   ],
   "source": [
    "for a in l:\n",
    "    print(a)"
   ]
  },
  {
   "cell_type": "code",
   "execution_count": 93,
   "id": "f4fea93d",
   "metadata": {},
   "outputs": [
    {
     "data": {
      "text/plain": [
       "'b'"
      ]
     },
     "execution_count": 93,
     "metadata": {},
     "output_type": "execute_result"
    }
   ],
   "source": [
    "l[1]"
   ]
  },
  {
   "cell_type": "code",
   "execution_count": 94,
   "id": "ab1a2165",
   "metadata": {},
   "outputs": [
    {
     "data": {
      "text/plain": [
       "'p'"
      ]
     },
     "execution_count": 94,
     "metadata": {},
     "output_type": "execute_result"
    }
   ],
   "source": [
    "l[-1]"
   ]
  },
  {
   "cell_type": "code",
   "execution_count": 95,
   "id": "9dadbc01",
   "metadata": {},
   "outputs": [
    {
     "data": {
      "text/plain": [
       "'o'"
      ]
     },
     "execution_count": 95,
     "metadata": {},
     "output_type": "execute_result"
    }
   ],
   "source": [
    "l[-2]"
   ]
  },
  {
   "cell_type": "markdown",
   "id": "f0711b56",
   "metadata": {},
   "source": [
    "### function"
   ]
  },
  {
   "cell_type": "code",
   "execution_count": 24,
   "id": "2c6f7fc6",
   "metadata": {},
   "outputs": [],
   "source": [
    "def even(a):\n",
    "    if(a%2==0):\n",
    "        print(a ,\"is  an even number\")\n",
    "    else:\n",
    "        print(a,\"is an odd number\")"
   ]
  },
  {
   "cell_type": "code",
   "execution_count": 105,
   "id": "6c8ceb72",
   "metadata": {},
   "outputs": [
    {
     "name": "stdout",
     "output_type": "stream",
     "text": [
      "2 is  an even number\n"
     ]
    }
   ],
   "source": [
    "even(2)"
   ]
  },
  {
   "cell_type": "code",
   "execution_count": 106,
   "id": "702b5050",
   "metadata": {},
   "outputs": [
    {
     "name": "stdout",
     "output_type": "stream",
     "text": [
      "3 is an odd number\n"
     ]
    }
   ],
   "source": [
    "even(3)"
   ]
  },
  {
   "cell_type": "markdown",
   "id": "6d594521",
   "metadata": {},
   "source": [
    "### Tuples"
   ]
  },
  {
   "cell_type": "code",
   "execution_count": 29,
   "id": "b09135a8",
   "metadata": {},
   "outputs": [],
   "source": [
    "t=()"
   ]
  },
  {
   "cell_type": "code",
   "execution_count": 30,
   "id": "cc6ed06e",
   "metadata": {},
   "outputs": [],
   "source": [
    "class A:\n",
    "    x=5"
   ]
  },
  {
   "cell_type": "code",
   "execution_count": 31,
   "id": "eb2ee7e5",
   "metadata": {},
   "outputs": [],
   "source": [
    "t=(2,3.5,\"ali\",A,even,(2,\"ali\"),\"ali\")"
   ]
  },
  {
   "cell_type": "code",
   "execution_count": 32,
   "id": "ffc83ed5",
   "metadata": {},
   "outputs": [
    {
     "data": {
      "text/plain": [
       "7"
      ]
     },
     "execution_count": 32,
     "metadata": {},
     "output_type": "execute_result"
    }
   ],
   "source": [
    "len(t)"
   ]
  },
  {
   "cell_type": "code",
   "execution_count": 33,
   "id": "21da0e06",
   "metadata": {},
   "outputs": [
    {
     "data": {
      "text/plain": [
       "2"
      ]
     },
     "execution_count": 33,
     "metadata": {},
     "output_type": "execute_result"
    }
   ],
   "source": [
    "t.count(\"ali\")"
   ]
  },
  {
   "cell_type": "code",
   "execution_count": 34,
   "id": "c342c738",
   "metadata": {},
   "outputs": [
    {
     "data": {
      "text/plain": [
       "2"
      ]
     },
     "execution_count": 34,
     "metadata": {},
     "output_type": "execute_result"
    }
   ],
   "source": [
    "t.index(\"ali\")"
   ]
  },
  {
   "cell_type": "code",
   "execution_count": 35,
   "id": "72ae96eb",
   "metadata": {},
   "outputs": [
    {
     "data": {
      "text/plain": [
       "'ali'"
      ]
     },
     "execution_count": 35,
     "metadata": {},
     "output_type": "execute_result"
    }
   ],
   "source": [
    "t[2]"
   ]
  },
  {
   "cell_type": "code",
   "execution_count": 113,
   "id": "13c49b25",
   "metadata": {},
   "outputs": [
    {
     "name": "stdout",
     "output_type": "stream",
     "text": [
      "2 <class 'int'>\n",
      "3.5 <class 'float'>\n",
      "ali <class 'str'>\n",
      "<class '__main__.A'> <class 'type'>\n",
      "<function even at 0x7fb3bc7695e0> <class 'function'>\n",
      "(2, 'ali') <class 'tuple'>\n"
     ]
    }
   ],
   "source": [
    "for a in t:\n",
    "    print(a,type(a))"
   ]
  },
  {
   "cell_type": "code",
   "execution_count": 111,
   "id": "c4206838",
   "metadata": {},
   "outputs": [
    {
     "data": {
      "text/plain": [
       "(3.5, 'ali')"
      ]
     },
     "execution_count": 111,
     "metadata": {},
     "output_type": "execute_result"
    }
   ],
   "source": [
    "t[1:3]"
   ]
  },
  {
   "cell_type": "code",
   "execution_count": null,
   "id": "2596ca39",
   "metadata": {},
   "outputs": [],
   "source": []
  },
  {
   "cell_type": "markdown",
   "id": "41ccfeb7",
   "metadata": {},
   "source": [
    "### List"
   ]
  },
  {
   "cell_type": "code",
   "execution_count": 36,
   "id": "9e85bd5a",
   "metadata": {},
   "outputs": [],
   "source": [
    "s=[]"
   ]
  },
  {
   "cell_type": "code",
   "execution_count": 37,
   "id": "0cb6cbc1",
   "metadata": {},
   "outputs": [],
   "source": [
    "s=[2,\"ali\",[2,3,\"javad\"],(2,3)]"
   ]
  },
  {
   "cell_type": "code",
   "execution_count": 38,
   "id": "afa228c3",
   "metadata": {},
   "outputs": [
    {
     "name": "stdout",
     "output_type": "stream",
     "text": [
      "2 <class 'int'>\n",
      "ali <class 'str'>\n",
      "[2, 3, 'javad'] <class 'list'>\n",
      "(2, 3) <class 'tuple'>\n"
     ]
    }
   ],
   "source": [
    "for a in s:\n",
    "    print(a, type(a))"
   ]
  },
  {
   "cell_type": "code",
   "execution_count": 117,
   "id": "8fa6f808",
   "metadata": {},
   "outputs": [],
   "source": [
    "s.append(4)"
   ]
  },
  {
   "cell_type": "code",
   "execution_count": 125,
   "id": "91d9d585",
   "metadata": {},
   "outputs": [
    {
     "data": {
      "text/plain": [
       "4"
      ]
     },
     "execution_count": 125,
     "metadata": {},
     "output_type": "execute_result"
    }
   ],
   "source": [
    "s.pop()"
   ]
  },
  {
   "cell_type": "code",
   "execution_count": 126,
   "id": "4c432afa",
   "metadata": {},
   "outputs": [
    {
     "data": {
      "text/plain": [
       "[2, 'ali', [2, 3, 'javad'], (2, 3)]"
      ]
     },
     "execution_count": 126,
     "metadata": {},
     "output_type": "execute_result"
    }
   ],
   "source": [
    "s"
   ]
  },
  {
   "cell_type": "code",
   "execution_count": 130,
   "id": "4e6b4c46",
   "metadata": {},
   "outputs": [],
   "source": [
    "s.remove(2)"
   ]
  },
  {
   "cell_type": "code",
   "execution_count": 131,
   "id": "4167e787",
   "metadata": {},
   "outputs": [
    {
     "data": {
      "text/plain": [
       "['ali', [2, 3, 'javad'], (2, 3)]"
      ]
     },
     "execution_count": 131,
     "metadata": {},
     "output_type": "execute_result"
    }
   ],
   "source": [
    "s"
   ]
  },
  {
   "cell_type": "code",
   "execution_count": 133,
   "id": "91c1e113",
   "metadata": {},
   "outputs": [
    {
     "data": {
      "text/plain": [
       "1"
      ]
     },
     "execution_count": 133,
     "metadata": {},
     "output_type": "execute_result"
    }
   ],
   "source": [
    "s.count('ali')"
   ]
  },
  {
   "cell_type": "markdown",
   "id": "48e94f35",
   "metadata": {},
   "source": [
    "What is the diffrence ????"
   ]
  },
  {
   "cell_type": "markdown",
   "id": "063c17c4",
   "metadata": {},
   "source": [
    "1) the operation are diffence on both just lik list have pop sort and such things...."
   ]
  },
  {
   "cell_type": "markdown",
   "id": "a203a796",
   "metadata": {},
   "source": [
    "2) size in memeory are diffrent like in list you have lower size for each object"
   ]
  },
  {
   "cell_type": "markdown",
   "id": "d8b3e44d",
   "metadata": {},
   "source": [
    "3) tupel are used for complex object like class objects but list are used for simple elements like string and int and float"
   ]
  },
  {
   "cell_type": "markdown",
   "id": "e474db33",
   "metadata": {},
   "source": [
    "4)size of tuple are fixed but list are not and you can make it grow...."
   ]
  },
  {
   "cell_type": "markdown",
   "id": "87fd9662",
   "metadata": {},
   "source": [
    "5) tuple can stor more tuple and list can stor more lists"
   ]
  },
  {
   "cell_type": "markdown",
   "id": "7c0627ce",
   "metadata": {},
   "source": [
    "6) etc"
   ]
  },
  {
   "cell_type": "markdown",
   "id": "21acb599",
   "metadata": {},
   "source": [
    "### Dictionary"
   ]
  },
  {
   "cell_type": "code",
   "execution_count": 39,
   "id": "fc3b76ac",
   "metadata": {},
   "outputs": [],
   "source": [
    "d={}"
   ]
  },
  {
   "cell_type": "code",
   "execution_count": 40,
   "id": "fc48df50",
   "metadata": {},
   "outputs": [],
   "source": [
    "a=2\n",
    "d[a]=3"
   ]
  },
  {
   "cell_type": "code",
   "execution_count": 41,
   "id": "6dddb62e",
   "metadata": {},
   "outputs": [
    {
     "data": {
      "text/plain": [
       "{2: 3}"
      ]
     },
     "execution_count": 41,
     "metadata": {},
     "output_type": "execute_result"
    }
   ],
   "source": [
    "d"
   ]
  },
  {
   "cell_type": "code",
   "execution_count": 42,
   "id": "7e1848ad",
   "metadata": {},
   "outputs": [
    {
     "data": {
      "text/plain": [
       "3"
      ]
     },
     "execution_count": 42,
     "metadata": {},
     "output_type": "execute_result"
    }
   ],
   "source": [
    "d[a]"
   ]
  },
  {
   "cell_type": "code",
   "execution_count": 43,
   "id": "bb29114c",
   "metadata": {},
   "outputs": [],
   "source": [
    "d[\"string\"]=[3,2.5,7]"
   ]
  },
  {
   "cell_type": "code",
   "execution_count": 44,
   "id": "e7899050",
   "metadata": {},
   "outputs": [
    {
     "data": {
      "text/plain": [
       "{2: 3, 'string': [3, 2.5, 7]}"
      ]
     },
     "execution_count": 44,
     "metadata": {},
     "output_type": "execute_result"
    }
   ],
   "source": [
    "d"
   ]
  },
  {
   "cell_type": "code",
   "execution_count": 45,
   "id": "07820829",
   "metadata": {},
   "outputs": [],
   "source": [
    "e={}"
   ]
  },
  {
   "cell_type": "code",
   "execution_count": 46,
   "id": "537dacef",
   "metadata": {},
   "outputs": [],
   "source": [
    "e[a]=d"
   ]
  },
  {
   "cell_type": "code",
   "execution_count": 47,
   "id": "641a9aba",
   "metadata": {},
   "outputs": [
    {
     "data": {
      "text/plain": [
       "{2: {2: 3, 'string': [3, 2.5, 7]}}"
      ]
     },
     "execution_count": 47,
     "metadata": {},
     "output_type": "execute_result"
    }
   ],
   "source": [
    "e"
   ]
  },
  {
   "cell_type": "code",
   "execution_count": 48,
   "id": "4312e8ff",
   "metadata": {},
   "outputs": [],
   "source": [
    "e[a]=2"
   ]
  },
  {
   "cell_type": "code",
   "execution_count": 49,
   "id": "861a59dc",
   "metadata": {},
   "outputs": [
    {
     "data": {
      "text/plain": [
       "{2: 2}"
      ]
     },
     "execution_count": 49,
     "metadata": {},
     "output_type": "execute_result"
    }
   ],
   "source": [
    "e"
   ]
  },
  {
   "cell_type": "markdown",
   "id": "71f6c87d",
   "metadata": {},
   "source": [
    "## clean code"
   ]
  },
  {
   "cell_type": "markdown",
   "id": "3ec3d15e",
   "metadata": {},
   "source": [
    "..."
   ]
  },
  {
   "cell_type": "markdown",
   "id": "c25a4882",
   "metadata": {},
   "source": [
    "update_the_page( balls ){\n",
    "\n",
    " update(ball)\n",
    " updat_timer\n",
    " update_...\n",
    " \n",
    "\n",
    "}\n",
    "\n",
    "update(balls){\n",
    "\n",
    "  ...\n",
    "  \n",
    "    crush_ball_with_ball(balls)\n",
    "   \n",
    "    crush_ball_with_wall(bals)\n",
    "        \n",
    "    for ball in balls:\n",
    "        ball.update()\n",
    "    \n",
    "}\n",
    "\n",
    "crush_ball_with_ball(balls){\n",
    "      if(-->condition):\n",
    "          ball.update_crush(d)\n",
    "\n",
    "\n",
    "}\n",
    "\n",
    "crush_ball_with_wall(bals){\n",
    "    if(--> condition):\n",
    "        ball.update_crush(d)\n",
    "}"
   ]
  },
  {
   "cell_type": "markdown",
   "id": "f16c047f",
   "metadata": {},
   "source": [
    "## class"
   ]
  },
  {
   "cell_type": "code",
   "execution_count": 1,
   "id": "f44949ab",
   "metadata": {},
   "outputs": [],
   "source": [
    "class new_calss:\n",
    "    \n",
    "    def __init__(self, name,z,y):\n",
    "        self.x=z\n",
    "        self.y=y\n",
    "        self.name=name\n",
    "        \n",
    "    def start(self):\n",
    "        for a in self.name:\n",
    "            print(a)\n",
    "            \n",
    "    def __str__(self):\n",
    "        return \"this is my x:\"+str(self.x)+\" this is my y:\"+str(self.y)+\" and this is my name:\"+self.name "
   ]
  },
  {
   "cell_type": "code",
   "execution_count": 2,
   "id": "17253a07",
   "metadata": {},
   "outputs": [],
   "source": [
    "A=new_calss(\"string\",10,13)"
   ]
  },
  {
   "cell_type": "code",
   "execution_count": 3,
   "id": "577f2011",
   "metadata": {},
   "outputs": [
    {
     "data": {
      "text/plain": [
       "10"
      ]
     },
     "execution_count": 3,
     "metadata": {},
     "output_type": "execute_result"
    }
   ],
   "source": [
    "A.x"
   ]
  },
  {
   "cell_type": "code",
   "execution_count": 4,
   "id": "9aa2fb53",
   "metadata": {},
   "outputs": [
    {
     "data": {
      "text/plain": [
       "13"
      ]
     },
     "execution_count": 4,
     "metadata": {},
     "output_type": "execute_result"
    }
   ],
   "source": [
    "A.y"
   ]
  },
  {
   "cell_type": "code",
   "execution_count": 5,
   "id": "226dbb61",
   "metadata": {},
   "outputs": [
    {
     "data": {
      "text/plain": [
       "'string'"
      ]
     },
     "execution_count": 5,
     "metadata": {},
     "output_type": "execute_result"
    }
   ],
   "source": [
    "A.name"
   ]
  },
  {
   "cell_type": "code",
   "execution_count": 6,
   "id": "2ae14412",
   "metadata": {},
   "outputs": [
    {
     "name": "stdout",
     "output_type": "stream",
     "text": [
      "s\n",
      "t\n",
      "r\n",
      "i\n",
      "n\n",
      "g\n"
     ]
    }
   ],
   "source": [
    "A.start()"
   ]
  },
  {
   "cell_type": "code",
   "execution_count": 7,
   "id": "bca088af",
   "metadata": {},
   "outputs": [
    {
     "name": "stdout",
     "output_type": "stream",
     "text": [
      "this is my x:10 this is my y:13 and this is my name:string\n"
     ]
    }
   ],
   "source": [
    "print(A)"
   ]
  },
  {
   "cell_type": "markdown",
   "id": "d58ebc9b",
   "metadata": {},
   "source": [
    " you can writ parrent in () in fron of the class name as extending"
   ]
  },
  {
   "cell_type": "markdown",
   "id": "da0f9a3f",
   "metadata": {},
   "source": [
    " ### importing"
   ]
  },
  {
   "cell_type": "code",
   "execution_count": 205,
   "id": "4b311dbe",
   "metadata": {},
   "outputs": [],
   "source": [
    "import math "
   ]
  },
  {
   "cell_type": "code",
   "execution_count": 206,
   "id": "7f02b87c",
   "metadata": {},
   "outputs": [],
   "source": [
    "import numpy as np"
   ]
  },
  {
   "cell_type": "code",
   "execution_count": 208,
   "id": "6d863ab0",
   "metadata": {},
   "outputs": [],
   "source": [
    "from matplotlib import pyplot as plt"
   ]
  },
  {
   "cell_type": "code",
   "execution_count": 8,
   "id": "0da80e09",
   "metadata": {},
   "outputs": [],
   "source": [
    "from scipy import linalg"
   ]
  },
  {
   "cell_type": "markdown",
   "id": "adc6462c",
   "metadata": {},
   "source": [
    "### Opening a file"
   ]
  },
  {
   "cell_type": "code",
   "execution_count": 9,
   "id": "84a970aa",
   "metadata": {},
   "outputs": [],
   "source": [
    "f=open(\"/home/javad/Desktop/WorkShap/file1.text\",'r')"
   ]
  },
  {
   "cell_type": "code",
   "execution_count": 10,
   "id": "f095024b",
   "metadata": {},
   "outputs": [
    {
     "name": "stdout",
     "output_type": "stream",
     "text": [
      "hello this is me \n",
      "\n",
      "iam happy to open this file :)\n",
      "\n",
      "2+3\n",
      "\n",
      "\n",
      "\n"
     ]
    }
   ],
   "source": [
    "for line in f.readlines() :\n",
    "    print(line)"
   ]
  },
  {
   "cell_type": "code",
   "execution_count": 11,
   "id": "305c2d89",
   "metadata": {},
   "outputs": [],
   "source": [
    "f.close()"
   ]
  },
  {
   "cell_type": "markdown",
   "id": "1254a535",
   "metadata": {},
   "source": [
    "### reference"
   ]
  },
  {
   "cell_type": "markdown",
   "id": "4802db80",
   "metadata": {},
   "source": [
    "https://ocw.mit.edu/courses/electrical-engineering-and-computer-science/6-0001-introduction-to-computer-science-and-programming-in-python-fall-2016/lecture-slides-code/"
   ]
  },
  {
   "cell_type": "markdown",
   "id": "cf05fb8e",
   "metadata": {},
   "source": [
    "https://web.stanford.edu/~schmit/cme193/lectures.html"
   ]
  },
  {
   "cell_type": "code",
   "execution_count": null,
   "id": "469a58af",
   "metadata": {},
   "outputs": [],
   "source": []
  }
 ],
 "metadata": {
  "kernelspec": {
   "display_name": "Python 3",
   "language": "python",
   "name": "python3"
  },
  "language_info": {
   "codemirror_mode": {
    "name": "ipython",
    "version": 3
   },
   "file_extension": ".py",
   "mimetype": "text/x-python",
   "name": "python",
   "nbconvert_exporter": "python",
   "pygments_lexer": "ipython3",
   "version": "3.8.10"
  }
 },
 "nbformat": 4,
 "nbformat_minor": 5
}
