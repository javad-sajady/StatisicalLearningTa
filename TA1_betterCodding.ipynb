{
  "nbformat": 4,
  "nbformat_minor": 0,
  "metadata": {
    "colab": {
      "name": "TA1_betterCodding.ipynb",
      "provenance": [],
      "collapsed_sections": []
    },
    "kernelspec": {
      "name": "python3",
      "display_name": "Python 3"
    },
    "language_info": {
      "name": "python"
    }
  },
  "cells": [
    {
      "cell_type": "code",
      "execution_count": null,
      "metadata": {
        "id": "lGc97igpEkPj"
      },
      "outputs": [],
      "source": [
        "import numpy as np"
      ]
    },
    {
      "cell_type": "code",
      "source": [
        "def random():\n",
        "  print(np.random.random())"
      ],
      "metadata": {
        "id": "fE1ohlnrE3xc"
      },
      "execution_count": null,
      "outputs": []
    },
    {
      "cell_type": "code",
      "source": [
        "random()"
      ],
      "metadata": {
        "colab": {
          "base_uri": "https://localhost:8080/"
        },
        "id": "lzD6zealFS5m",
        "outputId": "e1a34c29-9ad3-44ca-e18d-355b823f2859"
      },
      "execution_count": null,
      "outputs": [
        {
          "output_type": "stream",
          "name": "stdout",
          "text": [
            "0.30855888995905256\n"
          ]
        }
      ]
    },
    {
      "cell_type": "code",
      "source": [
        "random()"
      ],
      "metadata": {
        "colab": {
          "base_uri": "https://localhost:8080/"
        },
        "id": "uSySwQg7FmXN",
        "outputId": "f22cb785-998c-458b-d40e-5e281e8afb2f"
      },
      "execution_count": null,
      "outputs": [
        {
          "output_type": "stream",
          "name": "stdout",
          "text": [
            "0.49924052712783606\n"
          ]
        }
      ]
    },
    {
      "cell_type": "markdown",
      "source": [
        "## better codding"
      ],
      "metadata": {
        "id": "FKgdcwmiZBnE"
      }
    },
    {
      "cell_type": "code",
      "source": [
        "import matplotlib.pyplot as plt"
      ],
      "metadata": {
        "id": "9k7w2HWTHPX3"
      },
      "execution_count": null,
      "outputs": []
    },
    {
      "cell_type": "code",
      "source": [
        "from datetime import datetime"
      ],
      "metadata": {
        "id": "haRR0hlZIiPm"
      },
      "execution_count": null,
      "outputs": []
    },
    {
      "cell_type": "code",
      "source": [
        "tick = datetime.now()\n",
        "A=[]\n",
        "for i in range(n):\n",
        "  A.append(np.random.random())\n",
        "tock= datetime.now()\n",
        "print(tock-tick)\n",
        "\n",
        "tick = datetime.now()\n",
        "A=np.random.random(n)\n",
        "tock= datetime.now()\n",
        "print(tock-tick)"
      ],
      "metadata": {
        "colab": {
          "base_uri": "https://localhost:8080/"
        },
        "id": "KUJrS96-G7fo",
        "outputId": "05166f48-f17a-4c40-e961-5848e6cd07c5"
      },
      "execution_count": null,
      "outputs": [
        {
          "output_type": "stream",
          "name": "stdout",
          "text": [
            "0:00:00.563445\n",
            "0:00:00.007580\n"
          ]
        }
      ]
    },
    {
      "cell_type": "code",
      "source": [
        "plt.hist(A)"
      ],
      "metadata": {
        "colab": {
          "base_uri": "https://localhost:8080/",
          "height": 369
        },
        "id": "n2MIWC4JIxCc",
        "outputId": "ecdd70d2-9ace-4e1b-bc8e-4a4e9bbcbc4a"
      },
      "execution_count": null,
      "outputs": [
        {
          "output_type": "execute_result",
          "data": {
            "text/plain": [
              "(array([ 984., 1036., 1020.,  954.,  969., 1009., 1018.,  979., 1018.,\n",
              "        1013.]),\n",
              " array([3.17217493e-04, 1.00283556e-01, 2.00249894e-01, 3.00216233e-01,\n",
              "        4.00182571e-01, 5.00148910e-01, 6.00115248e-01, 7.00081587e-01,\n",
              "        8.00047925e-01, 9.00014264e-01, 9.99980602e-01]),\n",
              " <a list of 10 Patch objects>)"
            ]
          },
          "metadata": {},
          "execution_count": 25
        },
        {
          "output_type": "display_data",
          "data": {
            "text/plain": [
              "<Figure size 432x288 with 1 Axes>"
            ],
            "image/png": "[encoded data removed]"
          },
          "metadata": {
            "needs_background": "light"
          }
        }
      ]
    },
    {
      "cell_type": "code",
      "source": [
        "A=np.random.random(n)"
      ],
      "metadata": {
        "id": "TXc5kBWpLgak"
      },
      "execution_count": null,
      "outputs": []
    },
    {
      "cell_type": "code",
      "source": [
        "def f(x):\n",
        "  return np.exp(x)+np.random.random()"
      ],
      "metadata": {
        "id": "Ral5Q8WLLnbR"
      },
      "execution_count": null,
      "outputs": []
    },
    {
      "cell_type": "code",
      "source": [
        "B=[]\n",
        "for i in range(n):\n",
        "  B.append(f(A[i]))"
      ],
      "metadata": {
        "id": "lx1WE4zlL1XU"
      },
      "execution_count": null,
      "outputs": []
    },
    {
      "cell_type": "code",
      "source": [
        "B=f(A)"
      ],
      "metadata": {
        "colab": {
          "base_uri": "https://localhost:8080/"
        },
        "id": "52ajD3szMIPn",
        "outputId": "ac95c440-febf-49ca-fbfd-94a04241d6ca"
      },
      "execution_count": null,
      "outputs": [
        {
          "output_type": "execute_result",
          "data": {
            "text/plain": [
              "array([2.80926879, 2.24610168, 3.24804272, ..., 2.31915122, 1.93926329,\n",
              "       2.12586178])"
            ]
          },
          "metadata": {},
          "execution_count": 40
        }
      ]
    },
    {
      "cell_type": "markdown",
      "source": [
        "knn"
      ],
      "metadata": {
        "id": "q8mcDhkpZKto"
      }
    },
    {
      "cell_type": "code",
      "source": [
        "import  matplotlib.pyplot as plt"
      ],
      "metadata": {
        "id": "MHLJ0Ao3RgIZ"
      },
      "execution_count": null,
      "outputs": []
    },
    {
      "cell_type": "code",
      "source": [
        "x=np.random.random((2,n))\n",
        "y=np.random.randint(2,size=n)"
      ],
      "metadata": {
        "id": "IJeoTBWVQy5q"
      },
      "execution_count": null,
      "outputs": []
    },
    {
      "cell_type": "code",
      "source": [
        "y"
      ],
      "metadata": {
        "colab": {
          "base_uri": "https://localhost:8080/"
        },
        "id": "g1XsZMEqR1ej",
        "outputId": "c9518425-9c02-42a5-941e-30d7f6335c82"
      },
      "execution_count": null,
      "outputs": [
        {
          "output_type": "execute_result",
          "data": {
            "text/plain": [
              "array([0, 0, 1, 0, 1, 0, 0, 1, 1, 1, 1, 0, 1, 1, 0, 0, 0, 1, 1, 1, 0, 1,\n",
              "       0, 1, 1, 1, 0, 1, 1, 0, 1, 0, 1, 0, 1, 0, 0, 1, 1, 0, 0, 0, 0, 0,\n",
              "       1, 0, 0, 1, 0, 0, 1, 1, 1, 1, 0, 0, 0, 0, 0, 1, 1, 1, 0, 0, 0, 0,\n",
              "       1, 0, 1, 1, 0, 0, 0, 1, 0, 1, 0, 1, 1, 1, 0, 1, 1, 1, 0, 0, 0, 0,\n",
              "       1, 1, 0, 0, 1, 0, 1, 1, 1, 0, 0, 1])"
            ]
          },
          "metadata": {},
          "execution_count": 42
        }
      ]
    },
    {
      "cell_type": "code",
      "source": [
        "plt.scatter(x[0,:],x[1,:])"
      ],
      "metadata": {
        "colab": {
          "base_uri": "https://localhost:8080/",
          "height": 282
        },
        "id": "y_JWD6kkQy2e",
        "outputId": "28141ba4-17b7-48d4-d11a-147ed29cadf5"
      },
      "execution_count": null,
      "outputs": [
        {
          "output_type": "execute_result",
          "data": {
            "text/plain": [
              "<matplotlib.collections.PathCollection at 0x7f7b9df0fc50>"
            ]
          },
          "metadata": {},
          "execution_count": 45
        },
        {
          "output_type": "display_data",
          "data": {
            "text/plain": [
              "<Figure size 432x288 with 1 Axes>"
            ],
            "image/png": "[encoded data removed]"
          },
          "metadata": {
            "needs_background": "light"
          }
        }
      ]
    },
    {
      "cell_type": "code",
      "source": [
        "n=100"
      ],
      "metadata": {
        "id": "gU7SOPZJOkPi"
      },
      "execution_count": null,
      "outputs": []
    },
    {
      "cell_type": "code",
      "source": [
        "x=np.random.random(n)\n",
        "y=np.random.normal(0,1,n) +2*x + np.power(x,2)"
      ],
      "metadata": {
        "id": "Mc_WIArbGrZC"
      },
      "execution_count": null,
      "outputs": []
    },
    {
      "cell_type": "code",
      "source": [
        "x.dot(y)"
      ],
      "metadata": {
        "colab": {
          "base_uri": "https://localhost:8080/"
        },
        "id": "n8gC4MlVNmVK",
        "outputId": "fb734a10-7040-4119-930e-45435600f582"
      },
      "execution_count": null,
      "outputs": [
        {
          "output_type": "execute_result",
          "data": {
            "text/plain": [
              "94.84830440989356"
            ]
          },
          "metadata": {},
          "execution_count": 11
        }
      ]
    },
    {
      "cell_type": "code",
      "source": [
        "(x*y).sum()/(x*x).sum()"
      ],
      "metadata": {
        "colab": {
          "base_uri": "https://localhost:8080/"
        },
        "id": "3SAEinHiNz3b",
        "outputId": "3db80739-84d4-40ba-dad2-26e82b8f0393"
      },
      "execution_count": null,
      "outputs": [
        {
          "output_type": "execute_result",
          "data": {
            "text/plain": [
              "2.7327529883557027"
            ]
          },
          "metadata": {},
          "execution_count": 17
        }
      ]
    },
    {
      "cell_type": "code",
      "source": [
        "C=np.random.random((n,n))"
      ],
      "metadata": {
        "id": "_qWVoK1dN0xe"
      },
      "execution_count": null,
      "outputs": []
    },
    {
      "cell_type": "code",
      "source": [
        "C"
      ],
      "metadata": {
        "colab": {
          "base_uri": "https://localhost:8080/"
        },
        "id": "t3PaWa_POWSN",
        "outputId": "c34f3be8-0cd2-4c6a-f351-c9b6884b3cad"
      },
      "execution_count": null,
      "outputs": [
        {
          "output_type": "execute_result",
          "data": {
            "text/plain": [
              "array([[0.64243174, 0.35026053, 0.43132961, ..., 0.06252749, 0.59200874,\n",
              "        0.83894268],\n",
              "       [0.37789693, 0.43558417, 0.08408958, ..., 0.75418605, 0.09368109,\n",
              "        0.48547363],\n",
              "       [0.14085661, 0.28622893, 0.03418847, ..., 0.20884289, 0.09050859,\n",
              "        0.79381482],\n",
              "       ...,\n",
              "       [0.64652342, 0.71604606, 0.92184765, ..., 0.08281616, 0.45785146,\n",
              "        0.00556202],\n",
              "       [0.89393364, 0.13126617, 0.7407552 , ..., 0.70935492, 0.34200364,\n",
              "        0.38998085],\n",
              "       [0.46730199, 0.22245063, 0.29197137, ..., 0.64250999, 0.76529206,\n",
              "        0.95118406]])"
            ]
          },
          "metadata": {},
          "execution_count": 14
        }
      ]
    },
    {
      "cell_type": "code",
      "source": [
        "C.sum()"
      ],
      "metadata": {
        "colab": {
          "base_uri": "https://localhost:8080/"
        },
        "id": "zMfE2cwoOYRU",
        "outputId": "291a4249-39ed-4797-8343-5a2acef09aa2"
      },
      "execution_count": null,
      "outputs": [
        {
          "output_type": "execute_result",
          "data": {
            "text/plain": [
              "5037.5510943914505"
            ]
          },
          "metadata": {},
          "execution_count": 16
        }
      ]
    }
  ]
}